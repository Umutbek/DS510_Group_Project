{
  "nbformat": 4,
  "nbformat_minor": 0,
  "metadata": {
    "colab": {
      "provenance": [],
      "collapsed_sections": []
    },
    "kernelspec": {
      "name": "python3",
      "display_name": "Python 3"
    },
    "language_info": {
      "name": "python"
    }
  },
  "cells": [
    {
      "cell_type": "code",
      "execution_count": 86,
      "metadata": {
        "id": "RXfhWTHJNqZA"
      },
      "outputs": [],
      "source": [
        "from sklearn.model_selection import train_test_split\n",
        "import pandas as pd\n",
        "import matplotlib.pyplot as plt\n",
        "import numpy as np\n",
        "from sklearn.naive_bayes import GaussianNB\n",
        "from sklearn.metrics import accuracy_score"
      ]
    },
    {
      "cell_type": "code",
      "source": [
        "nasa_data = pd.read_csv('nasa.csv')\n",
        "nasa_data"
      ],
      "metadata": {
        "colab": {
          "base_uri": "https://localhost:8080/",
          "height": 484
        },
        "id": "tclXBHTdOQIj",
        "outputId": "00ea5927-8ff9-4e5f-cde1-b2414fb5a9c6"
      },
      "execution_count": 81,
      "outputs": [
        {
          "output_type": "execute_result",
          "data": {
            "text/plain": [
              "      Est Dia in KM(min)  Est Dia in KM(max)  Relative Velocity km per sec  \\\n",
              "0               0.127220            0.284472                      6.115834   \n",
              "1               0.146068            0.326618                     18.113985   \n",
              "2               0.231502            0.517654                      7.590711   \n",
              "3               0.008801            0.019681                     11.173874   \n",
              "4               0.127220            0.284472                      9.840831   \n",
              "...                  ...                 ...                           ...   \n",
              "4682            0.044112            0.098637                     22.154265   \n",
              "4683            0.006089            0.013616                      3.225150   \n",
              "4684            0.076658            0.171412                      7.191642   \n",
              "4685            0.116026            0.259442                     11.352090   \n",
              "4686            0.400641            0.895860                     35.946852   \n",
              "\n",
              "      Minimum Orbit Intersection  Eccentricity  Semi Major Axis  Inclination  \\\n",
              "0                       0.025282      0.425549         1.407011     6.025981   \n",
              "1                       0.186935      0.351674         1.107776    28.412996   \n",
              "2                       0.043058      0.348248         1.458824     4.237961   \n",
              "3                       0.005512      0.216578         1.255903     7.905894   \n",
              "4                       0.034798      0.210448         1.225615    16.793382   \n",
              "...                          ...           ...              ...          ...   \n",
              "4682                    0.019777      0.361512         1.161429    39.880491   \n",
              "4683                    0.006451      0.073200         1.075134     5.360249   \n",
              "4684                    0.059972      0.368055         1.528234     4.405467   \n",
              "4685                    0.177510      0.202565         1.486600    21.080244   \n",
              "4686                    0.051777      0.405642         1.474045    53.574923   \n",
              "\n",
              "      Asc Node Longitude  Perihelion Arg  Mean Anomaly  Hazardous  \n",
              "0             314.373913       57.257470    264.837533       True  \n",
              "1             136.717242      313.091975    173.741112      False  \n",
              "2             259.475979      248.415038    292.893654       True  \n",
              "3              57.173266       18.707701     68.741007      False  \n",
              "4              84.629307      158.263596    135.142133       True  \n",
              "...                  ...             ...           ...        ...  \n",
              "4682          164.183305      276.395697    304.306025      False  \n",
              "4683          345.225230       42.111064    282.978786      False  \n",
              "4684           37.026468      274.692712    203.501147      False  \n",
              "4685          163.802910      180.346090    203.524965      False  \n",
              "4686          187.642183      222.436688    184.820424      False  \n",
              "\n",
              "[4687 rows x 11 columns]"
            ],
            "text/html": [
              "\n",
              "  <div id=\"df-d3f7f8cd-d39e-497c-91b5-f06a4fd861d2\">\n",
              "    <div class=\"colab-df-container\">\n",
              "      <div>\n",
              "<style scoped>\n",
              "    .dataframe tbody tr th:only-of-type {\n",
              "        vertical-align: middle;\n",
              "    }\n",
              "\n",
              "    .dataframe tbody tr th {\n",
              "        vertical-align: top;\n",
              "    }\n",
              "\n",
              "    .dataframe thead th {\n",
              "        text-align: right;\n",
              "    }\n",
              "</style>\n",
              "<table border=\"1\" class=\"dataframe\">\n",
              "  <thead>\n",
              "    <tr style=\"text-align: right;\">\n",
              "      <th></th>\n",
              "      <th>Est Dia in KM(min)</th>\n",
              "      <th>Est Dia in KM(max)</th>\n",
              "      <th>Relative Velocity km per sec</th>\n",
              "      <th>Minimum Orbit Intersection</th>\n",
              "      <th>Eccentricity</th>\n",
              "      <th>Semi Major Axis</th>\n",
              "      <th>Inclination</th>\n",
              "      <th>Asc Node Longitude</th>\n",
              "      <th>Perihelion Arg</th>\n",
              "      <th>Mean Anomaly</th>\n",
              "      <th>Hazardous</th>\n",
              "    </tr>\n",
              "  </thead>\n",
              "  <tbody>\n",
              "    <tr>\n",
              "      <th>0</th>\n",
              "      <td>0.127220</td>\n",
              "      <td>0.284472</td>\n",
              "      <td>6.115834</td>\n",
              "      <td>0.025282</td>\n",
              "      <td>0.425549</td>\n",
              "      <td>1.407011</td>\n",
              "      <td>6.025981</td>\n",
              "      <td>314.373913</td>\n",
              "      <td>57.257470</td>\n",
              "      <td>264.837533</td>\n",
              "      <td>True</td>\n",
              "    </tr>\n",
              "    <tr>\n",
              "      <th>1</th>\n",
              "      <td>0.146068</td>\n",
              "      <td>0.326618</td>\n",
              "      <td>18.113985</td>\n",
              "      <td>0.186935</td>\n",
              "      <td>0.351674</td>\n",
              "      <td>1.107776</td>\n",
              "      <td>28.412996</td>\n",
              "      <td>136.717242</td>\n",
              "      <td>313.091975</td>\n",
              "      <td>173.741112</td>\n",
              "      <td>False</td>\n",
              "    </tr>\n",
              "    <tr>\n",
              "      <th>2</th>\n",
              "      <td>0.231502</td>\n",
              "      <td>0.517654</td>\n",
              "      <td>7.590711</td>\n",
              "      <td>0.043058</td>\n",
              "      <td>0.348248</td>\n",
              "      <td>1.458824</td>\n",
              "      <td>4.237961</td>\n",
              "      <td>259.475979</td>\n",
              "      <td>248.415038</td>\n",
              "      <td>292.893654</td>\n",
              "      <td>True</td>\n",
              "    </tr>\n",
              "    <tr>\n",
              "      <th>3</th>\n",
              "      <td>0.008801</td>\n",
              "      <td>0.019681</td>\n",
              "      <td>11.173874</td>\n",
              "      <td>0.005512</td>\n",
              "      <td>0.216578</td>\n",
              "      <td>1.255903</td>\n",
              "      <td>7.905894</td>\n",
              "      <td>57.173266</td>\n",
              "      <td>18.707701</td>\n",
              "      <td>68.741007</td>\n",
              "      <td>False</td>\n",
              "    </tr>\n",
              "    <tr>\n",
              "      <th>4</th>\n",
              "      <td>0.127220</td>\n",
              "      <td>0.284472</td>\n",
              "      <td>9.840831</td>\n",
              "      <td>0.034798</td>\n",
              "      <td>0.210448</td>\n",
              "      <td>1.225615</td>\n",
              "      <td>16.793382</td>\n",
              "      <td>84.629307</td>\n",
              "      <td>158.263596</td>\n",
              "      <td>135.142133</td>\n",
              "      <td>True</td>\n",
              "    </tr>\n",
              "    <tr>\n",
              "      <th>...</th>\n",
              "      <td>...</td>\n",
              "      <td>...</td>\n",
              "      <td>...</td>\n",
              "      <td>...</td>\n",
              "      <td>...</td>\n",
              "      <td>...</td>\n",
              "      <td>...</td>\n",
              "      <td>...</td>\n",
              "      <td>...</td>\n",
              "      <td>...</td>\n",
              "      <td>...</td>\n",
              "    </tr>\n",
              "    <tr>\n",
              "      <th>4682</th>\n",
              "      <td>0.044112</td>\n",
              "      <td>0.098637</td>\n",
              "      <td>22.154265</td>\n",
              "      <td>0.019777</td>\n",
              "      <td>0.361512</td>\n",
              "      <td>1.161429</td>\n",
              "      <td>39.880491</td>\n",
              "      <td>164.183305</td>\n",
              "      <td>276.395697</td>\n",
              "      <td>304.306025</td>\n",
              "      <td>False</td>\n",
              "    </tr>\n",
              "    <tr>\n",
              "      <th>4683</th>\n",
              "      <td>0.006089</td>\n",
              "      <td>0.013616</td>\n",
              "      <td>3.225150</td>\n",
              "      <td>0.006451</td>\n",
              "      <td>0.073200</td>\n",
              "      <td>1.075134</td>\n",
              "      <td>5.360249</td>\n",
              "      <td>345.225230</td>\n",
              "      <td>42.111064</td>\n",
              "      <td>282.978786</td>\n",
              "      <td>False</td>\n",
              "    </tr>\n",
              "    <tr>\n",
              "      <th>4684</th>\n",
              "      <td>0.076658</td>\n",
              "      <td>0.171412</td>\n",
              "      <td>7.191642</td>\n",
              "      <td>0.059972</td>\n",
              "      <td>0.368055</td>\n",
              "      <td>1.528234</td>\n",
              "      <td>4.405467</td>\n",
              "      <td>37.026468</td>\n",
              "      <td>274.692712</td>\n",
              "      <td>203.501147</td>\n",
              "      <td>False</td>\n",
              "    </tr>\n",
              "    <tr>\n",
              "      <th>4685</th>\n",
              "      <td>0.116026</td>\n",
              "      <td>0.259442</td>\n",
              "      <td>11.352090</td>\n",
              "      <td>0.177510</td>\n",
              "      <td>0.202565</td>\n",
              "      <td>1.486600</td>\n",
              "      <td>21.080244</td>\n",
              "      <td>163.802910</td>\n",
              "      <td>180.346090</td>\n",
              "      <td>203.524965</td>\n",
              "      <td>False</td>\n",
              "    </tr>\n",
              "    <tr>\n",
              "      <th>4686</th>\n",
              "      <td>0.400641</td>\n",
              "      <td>0.895860</td>\n",
              "      <td>35.946852</td>\n",
              "      <td>0.051777</td>\n",
              "      <td>0.405642</td>\n",
              "      <td>1.474045</td>\n",
              "      <td>53.574923</td>\n",
              "      <td>187.642183</td>\n",
              "      <td>222.436688</td>\n",
              "      <td>184.820424</td>\n",
              "      <td>False</td>\n",
              "    </tr>\n",
              "  </tbody>\n",
              "</table>\n",
              "<p>4687 rows × 11 columns</p>\n",
              "</div>\n",
              "      <button class=\"colab-df-convert\" onclick=\"convertToInteractive('df-d3f7f8cd-d39e-497c-91b5-f06a4fd861d2')\"\n",
              "              title=\"Convert this dataframe to an interactive table.\"\n",
              "              style=\"display:none;\">\n",
              "        \n",
              "  <svg xmlns=\"http://www.w3.org/2000/svg\" height=\"24px\"viewBox=\"0 0 24 24\"\n",
              "       width=\"24px\">\n",
              "    <path d=\"M0 0h24v24H0V0z\" fill=\"none\"/>\n",
              "    <path d=\"M18.56 5.44l.94 2.06.94-2.06 2.06-.94-2.06-.94-.94-2.06-.94 2.06-2.06.94zm-11 1L8.5 8.5l.94-2.06 2.06-.94-2.06-.94L8.5 2.5l-.94 2.06-2.06.94zm10 10l.94 2.06.94-2.06 2.06-.94-2.06-.94-.94-2.06-.94 2.06-2.06.94z\"/><path d=\"M17.41 7.96l-1.37-1.37c-.4-.4-.92-.59-1.43-.59-.52 0-1.04.2-1.43.59L10.3 9.45l-7.72 7.72c-.78.78-.78 2.05 0 2.83L4 21.41c.39.39.9.59 1.41.59.51 0 1.02-.2 1.41-.59l7.78-7.78 2.81-2.81c.8-.78.8-2.07 0-2.86zM5.41 20L4 18.59l7.72-7.72 1.47 1.35L5.41 20z\"/>\n",
              "  </svg>\n",
              "      </button>\n",
              "      \n",
              "  <style>\n",
              "    .colab-df-container {\n",
              "      display:flex;\n",
              "      flex-wrap:wrap;\n",
              "      gap: 12px;\n",
              "    }\n",
              "\n",
              "    .colab-df-convert {\n",
              "      background-color: #E8F0FE;\n",
              "      border: none;\n",
              "      border-radius: 50%;\n",
              "      cursor: pointer;\n",
              "      display: none;\n",
              "      fill: #1967D2;\n",
              "      height: 32px;\n",
              "      padding: 0 0 0 0;\n",
              "      width: 32px;\n",
              "    }\n",
              "\n",
              "    .colab-df-convert:hover {\n",
              "      background-color: #E2EBFA;\n",
              "      box-shadow: 0px 1px 2px rgba(60, 64, 67, 0.3), 0px 1px 3px 1px rgba(60, 64, 67, 0.15);\n",
              "      fill: #174EA6;\n",
              "    }\n",
              "\n",
              "    [theme=dark] .colab-df-convert {\n",
              "      background-color: #3B4455;\n",
              "      fill: #D2E3FC;\n",
              "    }\n",
              "\n",
              "    [theme=dark] .colab-df-convert:hover {\n",
              "      background-color: #434B5C;\n",
              "      box-shadow: 0px 1px 3px 1px rgba(0, 0, 0, 0.15);\n",
              "      filter: drop-shadow(0px 1px 2px rgba(0, 0, 0, 0.3));\n",
              "      fill: #FFFFFF;\n",
              "    }\n",
              "  </style>\n",
              "\n",
              "      <script>\n",
              "        const buttonEl =\n",
              "          document.querySelector('#df-d3f7f8cd-d39e-497c-91b5-f06a4fd861d2 button.colab-df-convert');\n",
              "        buttonEl.style.display =\n",
              "          google.colab.kernel.accessAllowed ? 'block' : 'none';\n",
              "\n",
              "        async function convertToInteractive(key) {\n",
              "          const element = document.querySelector('#df-d3f7f8cd-d39e-497c-91b5-f06a4fd861d2');\n",
              "          const dataTable =\n",
              "            await google.colab.kernel.invokeFunction('convertToInteractive',\n",
              "                                                     [key], {});\n",
              "          if (!dataTable) return;\n",
              "\n",
              "          const docLinkHtml = 'Like what you see? Visit the ' +\n",
              "            '<a target=\"_blank\" href=https://colab.research.google.com/notebooks/data_table.ipynb>data table notebook</a>'\n",
              "            + ' to learn more about interactive tables.';\n",
              "          element.innerHTML = '';\n",
              "          dataTable['output_type'] = 'display_data';\n",
              "          await google.colab.output.renderOutput(dataTable, element);\n",
              "          const docLink = document.createElement('div');\n",
              "          docLink.innerHTML = docLinkHtml;\n",
              "          element.appendChild(docLink);\n",
              "        }\n",
              "      </script>\n",
              "    </div>\n",
              "  </div>\n",
              "  "
            ]
          },
          "metadata": {},
          "execution_count": 81
        }
      ]
    },
    {
      "cell_type": "code",
      "source": [
        "nasa_data[\"Hazardous\"] = [int(obs) for obs in nasa_data[\"Hazardous\"]]  #Change string data to integer ((True, Fale), (1,0))\n",
        "\n",
        "nasa_data.Hazardous.value_counts().plot(kind='bar')\n",
        "plt.title('Hazardous')\n",
        "plt.show()\n"
      ],
      "metadata": {
        "colab": {
          "base_uri": "https://localhost:8080/",
          "height": 277
        },
        "id": "m6YBDrPaRX2s",
        "outputId": "dfebb462-b7bc-4d54-9d8c-60fb33cb8743"
      },
      "execution_count": 82,
      "outputs": [
        {
          "output_type": "display_data",
          "data": {
            "text/plain": [
              "<Figure size 432x288 with 1 Axes>"
            ],
            "image/png": "[encoded data removed]"
          },
          "metadata": {
            "needs_background": "light"
          }
        }
      ]
    },
    {
      "cell_type": "code",
      "source": [
        "nasa_data.Hazardous.value_counts()\n"
      ],
      "metadata": {
        "colab": {
          "base_uri": "https://localhost:8080/"
        },
        "id": "mfHAS8ocXpHk",
        "outputId": "2a4d7d44-4b60-4395-b526-df20dafaf398"
      },
      "execution_count": 83,
      "outputs": [
        {
          "output_type": "execute_result",
          "data": {
            "text/plain": [
              "0    3932\n",
              "1     755\n",
              "Name: Hazardous, dtype: int64"
            ]
          },
          "metadata": {},
          "execution_count": 83
        }
      ]
    },
    {
      "cell_type": "code",
      "source": [
        "x = nasa_data.iloc[:, 0:10]\n",
        "y = nasa_data['Hazardous']\n"
      ],
      "metadata": {
        "id": "X_qjb8h6SRlE"
      },
      "execution_count": 84,
      "outputs": []
    },
    {
      "cell_type": "code",
      "source": [
        "train_x, test_x, train_y, test_y =train_test_split( x,y, train_size=.70)"
      ],
      "metadata": {
        "id": "b5iQ3TgdTBxD"
      },
      "execution_count": 85,
      "outputs": []
    },
    {
      "cell_type": "code",
      "source": [
        "# Gaussian Naive Bayes Model\n",
        "nbayes_nasa = GaussianNB()\n",
        "nbayes_nasa.fit(train_x, train_y)\n",
        "nbayes_nasa_pred = nbayes_nasa.predict(test_x)\n",
        "accuracy = round(accuracy_score(nbayes_nasa_pred, test_y) * 100, 2)\n",
        "print(accuracy)"
      ],
      "metadata": {
        "colab": {
          "base_uri": "https://localhost:8080/"
        },
        "id": "K63dTuMO5yIc",
        "outputId": "aa978a50-72d8-4b6b-85fd-5b0918d6819c"
      },
      "execution_count": 87,
      "outputs": [
        {
          "output_type": "stream",
          "name": "stdout",
          "text": [
            "88.34\n"
          ]
        }
      ]
    }
  ]
}